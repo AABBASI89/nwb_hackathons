{
 "cells": [
  {
   "cell_type": "markdown",
   "metadata": {},
   "source": [
    "DataJoint is a Python (or MATLAB) framework that allows manipulation of MySQL databases and tables within Python (or MATLAB).\n",
    "\n",
    "Python (or MATLAB) classes to represent and link to MySQL tables. Manipulation of tables (create and drop tables, insert, delete and update entries) could be implemented by calling methods of table classes."
   ]
  },
  {
   "cell_type": "code",
   "execution_count": null,
   "metadata": {},
   "outputs": [],
   "source": [
    "import datajoint as dj"
   ]
  },
  {
   "cell_type": "code",
   "execution_count": null,
   "metadata": {},
   "outputs": [],
   "source": [
    "# create schema, house of tables\n",
    "schema = dj.schema('demo_nwb')"
   ]
  },
  {
   "cell_type": "code",
   "execution_count": null,
   "metadata": {},
   "outputs": [],
   "source": [
    "# create a table by declaring a class\n",
    "@schema\n",
    "class Mouse(dj.Manual):\n",
    "    definition = \"\"\"\n",
    "    mouse_id       : int \n",
    "    ---\n",
    "    dob            : date            # date of birth\n",
    "    sex            : enum('M', 'F', 'unknown')\n",
    "    \"\"\""
   ]
  },
  {
   "cell_type": "code",
   "execution_count": null,
   "metadata": {},
   "outputs": [],
   "source": [
    "# insert some mouse entries\n",
    "data = [(0, '2019-08-25', 'M'),\n",
    "        (1, '2019-10-21', 'F'),\n",
    "        (2, '2020-01-01', 'unknown'),\n",
    "        (3, '2019-02-03', 'M'),\n",
    "        (4, '2019-08-23', 'F')\n",
    "       ]\n",
    "\n",
    "Mouse.insert(data)"
   ]
  },
  {
   "cell_type": "code",
   "execution_count": null,
   "metadata": {},
   "outputs": [],
   "source": [
    "Mouse()"
   ]
  },
  {
   "cell_type": "code",
   "execution_count": null,
   "metadata": {},
   "outputs": [],
   "source": [
    "# create another table representing experimental session\n",
    "@schema\n",
    "class Session(dj.Manual):\n",
    "    definition = \"\"\"\n",
    "    -> Mouse\n",
    "    session_date       : date\n",
    "    ---\n",
    "    experimenter       : varchar(32)\n",
    "    setup              : int        \n",
    "    \"\"\""
   ]
  },
  {
   "cell_type": "code",
   "execution_count": null,
   "metadata": {},
   "outputs": [],
   "source": [
    "# insert some sessions\n",
    "data = [\n",
    "    {'mouse_id': 0, 'session_date': '2019-10-30', 'experimenter': 'Shan Shen', 'setup': 1},\n",
    "    {'mouse_id': 0, 'session_date': '2019-11-02', 'experimenter': 'Shan Shen', 'setup': 1},\n",
    "    {'mouse_id': 1, 'session_date': '2019-12-30', 'experimenter': 'Thinh Nguyen', 'setup': 2},\n",
    "    {'mouse_id': 2, 'session_date': '2020-01-30', 'experimenter': 'Shan Shen', 'setup': 2},\n",
    "]"
   ]
  },
  {
   "cell_type": "code",
   "execution_count": null,
   "metadata": {},
   "outputs": [],
   "source": [
    "Session.insert(data)"
   ]
  },
  {
   "cell_type": "code",
   "execution_count": null,
   "metadata": {},
   "outputs": [],
   "source": [
    "Session()"
   ]
  },
  {
   "cell_type": "code",
   "execution_count": null,
   "metadata": {},
   "outputs": [],
   "source": [
    "Mouse & 'sex=\"M\"'"
   ]
  },
  {
   "cell_type": "code",
   "execution_count": null,
   "metadata": {},
   "outputs": [],
   "source": [
    "Mouse & Session"
   ]
  },
  {
   "cell_type": "code",
   "execution_count": null,
   "metadata": {},
   "outputs": [],
   "source": [
    "(Mouse & Session).fetch()"
   ]
  },
  {
   "cell_type": "code",
   "execution_count": null,
   "metadata": {},
   "outputs": [],
   "source": [
    "# delete entries\n",
    "(Mouse & 'mouse_id=2').delete()"
   ]
  },
  {
   "cell_type": "code",
   "execution_count": null,
   "metadata": {},
   "outputs": [],
   "source": [
    "# drop table\n",
    "Mouse.drop()"
   ]
  }
 ],
 "metadata": {
  "kernelspec": {
   "display_name": "Python 3",
   "language": "python",
   "name": "python3"
  },
  "language_info": {
   "codemirror_mode": {
    "name": "ipython",
    "version": 3
   },
   "file_extension": ".py",
   "mimetype": "text/x-python",
   "name": "python",
   "nbconvert_exporter": "python",
   "pygments_lexer": "ipython3",
   "version": "3.7.3"
  }
 },
 "nbformat": 4,
 "nbformat_minor": 2
}

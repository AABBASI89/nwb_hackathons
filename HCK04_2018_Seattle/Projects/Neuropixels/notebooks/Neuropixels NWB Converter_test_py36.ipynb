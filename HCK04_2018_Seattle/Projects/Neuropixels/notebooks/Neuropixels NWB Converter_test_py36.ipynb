{
 "cells": [
  {
   "cell_type": "code",
   "execution_count": 1,
   "metadata": {},
   "outputs": [
    {
     "name": "stderr",
     "output_type": "stream",
     "text": [
      "/Users/xiaoxuanj/anaconda/envs/py36/lib/python3.6/site-packages/h5py/__init__.py:36: FutureWarning: Conversion of the second argument of issubdtype from `float` to `np.floating` is deprecated. In future, it will be treated as `np.float64 == np.dtype(float).type`.\n",
      "  from ._conv import register_converters as _register_converters\n"
     ]
    }
   ],
   "source": [
    "from pynwb import NWBFile\n",
    "from datetime import datetime"
   ]
  },
  {
   "cell_type": "code",
   "execution_count": 2,
   "metadata": {},
   "outputs": [],
   "source": [
    "import h5py as h5\n",
    "import numpy as np"
   ]
  },
  {
   "cell_type": "code",
   "execution_count": 3,
   "metadata": {},
   "outputs": [],
   "source": [
    "nwb1_file = '/Users/xiaoxuanj/work/work_allen/Ephys/mouse366119/mouse366119_probe_surf.nwb'\n",
    "nwb1 = h5.File(nwb1_file)"
   ]
  },
  {
   "cell_type": "code",
   "execution_count": 4,
   "metadata": {},
   "outputs": [
    {
     "data": {
      "text/plain": [
       "<HDF5 file \"mouse366119_probe_surf.nwb\" (mode r+)>"
      ]
     },
     "execution_count": 4,
     "metadata": {},
     "output_type": "execute_result"
    }
   ],
   "source": [
    "nwb1"
   ]
  },
  {
   "cell_type": "code",
   "execution_count": 5,
   "metadata": {},
   "outputs": [
    {
     "data": {
      "text/plain": [
       "b'experimenter'"
      ]
     },
     "execution_count": 5,
     "metadata": {},
     "output_type": "execute_result"
    }
   ],
   "source": [
    "nwb1['general']['experimenter'].value"
   ]
  },
  {
   "cell_type": "code",
   "execution_count": 6,
   "metadata": {},
   "outputs": [
    {
     "data": {
      "text/plain": [
       "b'subject_id'"
      ]
     },
     "execution_count": 6,
     "metadata": {},
     "output_type": "execute_result"
    }
   ],
   "source": [
    "nwb1['general']['subject']['subject_id'].value"
   ]
  },
  {
   "cell_type": "code",
   "execution_count": 7,
   "metadata": {},
   "outputs": [
    {
     "data": {
      "text/plain": [
       "'with visual stimuli; awake; sorted; unhealthy brain; tail touching grounding; probe C has sync recorded'"
      ]
     },
     "execution_count": 7,
     "metadata": {},
     "output_type": "execute_result"
    }
   ],
   "source": [
    "nwb1['general']['experiment_description'].value.astype(str)"
   ]
  },
  {
   "cell_type": "code",
   "execution_count": 8,
   "metadata": {},
   "outputs": [
    {
     "data": {
      "text/plain": [
       "\"b'366119; NWB-1.0.5; Wed Mar 21 15:17:53 2018'\""
      ]
     },
     "execution_count": 8,
     "metadata": {},
     "output_type": "execute_result"
    }
   ],
   "source": [
    "str(nwb1['identifier'].value)"
   ]
  },
  {
   "cell_type": "code",
   "execution_count": 9,
   "metadata": {},
   "outputs": [],
   "source": [
    "nwb2 = NWBFile('NWB 1.0 > NWB 2.0 converter',        # source\n",
    "                  str(nwb1['session_description'].value), # session description\n",
    "                  str(nwb1['identifier'].value),          # identifier\n",
    "                  str(nwb1['session_start_time'].value.astype(str)),  # date\n",
    "                  experimenter = nwb1['general']['experimenter'].value.astype(str),\n",
    "                  lab = nwb1['general']['lab'].value.astype(str),\n",
    "                  institution = nwb1['general']['lab'].value.astype(str),\n",
    "                  experiment_description = nwb1['general']['experiment_description'].value.astype(str),\n",
    "                  session_id='SESSION_ID')"
   ]
  },
  {
   "cell_type": "code",
   "execution_count": 10,
   "metadata": {},
   "outputs": [],
   "source": [
    "device = nwb2.create_device(name='Neuropixels Prototype Rig', source=\"a source\")"
   ]
  },
  {
   "cell_type": "code",
   "execution_count": 11,
   "metadata": {},
   "outputs": [],
   "source": [
    "probes = [p for p in nwb1['processing'].keys() if p[:5] == 'probe']"
   ]
  },
  {
   "cell_type": "code",
   "execution_count": 12,
   "metadata": {},
   "outputs": [
    {
     "data": {
      "text/plain": [
       "['probeA', 'probeB', 'probeC', 'probeD', 'probeE', 'probeF']"
      ]
     },
     "execution_count": 12,
     "metadata": {},
     "output_type": "execute_result"
    }
   ],
   "source": [
    "probes"
   ]
  },
  {
   "cell_type": "code",
   "execution_count": 13,
   "metadata": {},
   "outputs": [],
   "source": [
    "locations = {'probeA' : 'AM',\n",
    "             'probeB' : 'PM',\n",
    "             'probeC' : 'V1',\n",
    "             'probeD' : 'LM',\n",
    "             'probeE' : 'AL',\n",
    "             'probeF' : 'RL'}\n",
    "\n",
    "xlocs = [16, 48, 0, 32]"
   ]
  },
  {
   "cell_type": "code",
   "execution_count": 14,
   "metadata": {},
   "outputs": [],
   "source": [
    "for probe in probes:\n",
    "\n",
    "    electrode_name = probe\n",
    "    source = \"Neuropixels Probe\"\n",
    "    description = \"Phase 3a\"\n",
    "    location = locations[probe]\n",
    "\n",
    "    electrode_group = nwb2.create_electrode_group(electrode_name,\n",
    "                                                 source=source,\n",
    "                                                 description=description,\n",
    "                                                 location=location,\n",
    "                                                 device=device)\n",
    "    \n",
    "    for idx in range(0,384):\n",
    "        nwb2.add_electrode(idx,\n",
    "                          x=float(xlocs[idx % 4]), y=float(idx/2*20), z=np.nan,\n",
    "                          imp=np.nan,\n",
    "                          location='unknown', filtering='300 Hz highpass',\n",
    "                          description='channel %s' % idx, group=electrode_group)"
   ]
  },
  {
   "cell_type": "code",
   "execution_count": 15,
   "metadata": {},
   "outputs": [],
   "source": [
    "from pynwb.ecephys import Clustering\n",
    "\n",
    "module = nwb2.create_processing_module('ecephys', # name\n",
    "                                       'ecephys', #source\n",
    "                                        'Clustering module' # description\n",
    "                                      )\n",
    "\n",
    "for probe in probes:\n",
    "    \n",
    "    clustering = Clustering(probe, # source\n",
    "                                   'Kilosort outputs', # description\n",
    "                                   nwb1['processing'][probe]['Clustering']['num'].value, # cluster ID\n",
    "                                   nwb1['processing'][probe]['Clustering']['peak_over_rms'].value, #peak over RMS\n",
    "                                   nwb1['processing'][probe]['Clustering']['times'].value, # times\n",
    "                                   probe + '_clustering') # name\n",
    "    \n",
    "    module.add_data_interface(clustering)                               \n"
   ]
  },
  {
   "cell_type": "code",
   "execution_count": 19,
   "metadata": {},
   "outputs": [
    {
     "data": {
      "text/plain": [
       "KeysView(<HDF5 group \"/processing/probeA/Clustering\" (4 members)>)"
      ]
     },
     "execution_count": 19,
     "metadata": {},
     "output_type": "execute_result"
    }
   ],
   "source": [
    "nwb1['processing']['probeA']['Clustering'].keys()"
   ]
  },
  {
   "cell_type": "code",
   "execution_count": 22,
   "metadata": {},
   "outputs": [
    {
     "data": {
      "text/plain": [
       "['_Clustering__help',\n",
       " '_NWBBaseType__container_source',\n",
       " '_NWBBaseType__fields',\n",
       " '_NWBBaseType__gather_nwbfields',\n",
       " '_NWBBaseType__name',\n",
       " '_NWBBaseType__parent',\n",
       " '__abstractmethods__',\n",
       " '__class__',\n",
       " '__delattr__',\n",
       " '__dict__',\n",
       " '__dir__',\n",
       " '__doc__',\n",
       " '__eq__',\n",
       " '__format__',\n",
       " '__ge__',\n",
       " '__getattribute__',\n",
       " '__gt__',\n",
       " '__hash__',\n",
       " '__init__',\n",
       " '__init_subclass__',\n",
       " '__le__',\n",
       " '__lt__',\n",
       " '__module__',\n",
       " '__ne__',\n",
       " '__new__',\n",
       " '__nwbfields__',\n",
       " '__reduce__',\n",
       " '__reduce_ex__',\n",
       " '__repr__',\n",
       " '__setattr__',\n",
       " '__sizeof__',\n",
       " '__str__',\n",
       " '__subclasshook__',\n",
       " '__weakref__',\n",
       " '_abc_cache',\n",
       " '_abc_negative_cache',\n",
       " '_abc_negative_cache_version',\n",
       " '_abc_registry',\n",
       " '_getter',\n",
       " '_setter',\n",
       " '_to_dict',\n",
       " 'container_source',\n",
       " 'description',\n",
       " 'fields',\n",
       " 'help',\n",
       " 'name',\n",
       " 'namespace',\n",
       " 'neurodata_type',\n",
       " 'num',\n",
       " 'parent',\n",
       " 'peak_over_rms',\n",
       " 'source',\n",
       " 'times',\n",
       " 'type_hierarchy']"
      ]
     },
     "execution_count": 22,
     "metadata": {},
     "output_type": "execute_result"
    }
   ],
   "source": [
    "dir(nwb2.modules['ecephys'].containers[0])"
   ]
  },
  {
   "cell_type": "code",
   "execution_count": 23,
   "metadata": {},
   "outputs": [
    {
     "data": {
      "text/plain": [
       "(<pynwb.ecephys.Clustering at 0x10baea278>,\n",
       " <pynwb.ecephys.Clustering at 0x10baea2e8>,\n",
       " <pynwb.ecephys.Clustering at 0x10baea3c8>,\n",
       " <pynwb.ecephys.Clustering at 0x10baea4a8>,\n",
       " <pynwb.ecephys.Clustering at 0x10baea588>,\n",
       " <pynwb.ecephys.Clustering at 0x10baea668>)"
      ]
     },
     "execution_count": 23,
     "metadata": {},
     "output_type": "execute_result"
    }
   ],
   "source": [
    "module.containers"
   ]
  },
  {
   "cell_type": "code",
   "execution_count": null,
   "metadata": {
    "collapsed": true
   },
   "outputs": [],
   "source": []
  }
 ],
 "metadata": {
  "kernelspec": {
   "display_name": "Python 3",
   "language": "python",
   "name": "python3"
  },
  "language_info": {
   "codemirror_mode": {
    "name": "ipython",
    "version": 3
   },
   "file_extension": ".py",
   "mimetype": "text/x-python",
   "name": "python",
   "nbconvert_exporter": "python",
   "pygments_lexer": "ipython3",
   "version": "3.6.4"
  }
 },
 "nbformat": 4,
 "nbformat_minor": 1
}
